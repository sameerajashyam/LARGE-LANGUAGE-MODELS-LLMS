{
  "nbformat": 4,
  "nbformat_minor": 0,
  "metadata": {
    "colab": {
      "provenance": []
    },
    "kernelspec": {
      "name": "python3",
      "display_name": "Python 3"
    },
    "language_info": {
      "name": "python"
    }
  },
  "cells": [
    {
      "cell_type": "code",
      "source": [],
      "metadata": {
        "id": "dDKDqc88D6th"
      },
      "execution_count": null,
      "outputs": []
    },
    {
      "cell_type": "code",
      "source": [
        "from openai import OpenAI\n",
        "import pandas as pd\n",
        "\n",
        "#init client\n",
        "client=OpenAI(api_key=your_api_key)\n",
        "data={\n",
        "    'review':[\n",
        "        \"The movie was breathtaking and emotional!\",\n",
        "        \"This film was a complete waste of time.\",\n",
        "        \"Decent acting but the plot was predictable.\",\n",
        "        \"I absolutely loved every second of it.\"\n",
        "\n",
        "    ]\n",
        "}\n",
        "\n",
        "df=pd.DataFrame(data)\n",
        "df"
      ],
      "metadata": {
        "colab": {
          "base_uri": "https://localhost:8080/",
          "height": 175
        },
        "id": "y4aGe9MV3EqN",
        "outputId": "fe31d453-27db-4813-d69c-ba31e1c1da44"
      },
      "execution_count": null,
      "outputs": [
        {
          "output_type": "execute_result",
          "data": {
            "text/plain": [
              "                                        review\n",
              "0    The movie was breathtaking and emotional!\n",
              "1      This film was a complete waste of time.\n",
              "2  Decent acting but the plot was predictable.\n",
              "3       I absolutely loved every second of it."
            ],
            "text/html": [
              "\n",
              "  <div id=\"df-6cdbd0bf-f9de-49cb-8c95-a9599af37544\" class=\"colab-df-container\">\n",
              "    <div>\n",
              "<style scoped>\n",
              "    .dataframe tbody tr th:only-of-type {\n",
              "        vertical-align: middle;\n",
              "    }\n",
              "\n",
              "    .dataframe tbody tr th {\n",
              "        vertical-align: top;\n",
              "    }\n",
              "\n",
              "    .dataframe thead th {\n",
              "        text-align: right;\n",
              "    }\n",
              "</style>\n",
              "<table border=\"1\" class=\"dataframe\">\n",
              "  <thead>\n",
              "    <tr style=\"text-align: right;\">\n",
              "      <th></th>\n",
              "      <th>review</th>\n",
              "    </tr>\n",
              "  </thead>\n",
              "  <tbody>\n",
              "    <tr>\n",
              "      <th>0</th>\n",
              "      <td>The movie was breathtaking and emotional!</td>\n",
              "    </tr>\n",
              "    <tr>\n",
              "      <th>1</th>\n",
              "      <td>This film was a complete waste of time.</td>\n",
              "    </tr>\n",
              "    <tr>\n",
              "      <th>2</th>\n",
              "      <td>Decent acting but the plot was predictable.</td>\n",
              "    </tr>\n",
              "    <tr>\n",
              "      <th>3</th>\n",
              "      <td>I absolutely loved every second of it.</td>\n",
              "    </tr>\n",
              "  </tbody>\n",
              "</table>\n",
              "</div>\n",
              "    <div class=\"colab-df-buttons\">\n",
              "\n",
              "  <div class=\"colab-df-container\">\n",
              "    <button class=\"colab-df-convert\" onclick=\"convertToInteractive('df-6cdbd0bf-f9de-49cb-8c95-a9599af37544')\"\n",
              "            title=\"Convert this dataframe to an interactive table.\"\n",
              "            style=\"display:none;\">\n",
              "\n",
              "  <svg xmlns=\"http://www.w3.org/2000/svg\" height=\"24px\" viewBox=\"0 -960 960 960\">\n",
              "    <path d=\"M120-120v-720h720v720H120Zm60-500h600v-160H180v160Zm220 220h160v-160H400v160Zm0 220h160v-160H400v160ZM180-400h160v-160H180v160Zm440 0h160v-160H620v160ZM180-180h160v-160H180v160Zm440 0h160v-160H620v160Z\"/>\n",
              "  </svg>\n",
              "    </button>\n",
              "\n",
              "  <style>\n",
              "    .colab-df-container {\n",
              "      display:flex;\n",
              "      gap: 12px;\n",
              "    }\n",
              "\n",
              "    .colab-df-convert {\n",
              "      background-color: #E8F0FE;\n",
              "      border: none;\n",
              "      border-radius: 50%;\n",
              "      cursor: pointer;\n",
              "      display: none;\n",
              "      fill: #1967D2;\n",
              "      height: 32px;\n",
              "      padding: 0 0 0 0;\n",
              "      width: 32px;\n",
              "    }\n",
              "\n",
              "    .colab-df-convert:hover {\n",
              "      background-color: #E2EBFA;\n",
              "      box-shadow: 0px 1px 2px rgba(60, 64, 67, 0.3), 0px 1px 3px 1px rgba(60, 64, 67, 0.15);\n",
              "      fill: #174EA6;\n",
              "    }\n",
              "\n",
              "    .colab-df-buttons div {\n",
              "      margin-bottom: 4px;\n",
              "    }\n",
              "\n",
              "    [theme=dark] .colab-df-convert {\n",
              "      background-color: #3B4455;\n",
              "      fill: #D2E3FC;\n",
              "    }\n",
              "\n",
              "    [theme=dark] .colab-df-convert:hover {\n",
              "      background-color: #434B5C;\n",
              "      box-shadow: 0px 1px 3px 1px rgba(0, 0, 0, 0.15);\n",
              "      filter: drop-shadow(0px 1px 2px rgba(0, 0, 0, 0.3));\n",
              "      fill: #FFFFFF;\n",
              "    }\n",
              "  </style>\n",
              "\n",
              "    <script>\n",
              "      const buttonEl =\n",
              "        document.querySelector('#df-6cdbd0bf-f9de-49cb-8c95-a9599af37544 button.colab-df-convert');\n",
              "      buttonEl.style.display =\n",
              "        google.colab.kernel.accessAllowed ? 'block' : 'none';\n",
              "\n",
              "      async function convertToInteractive(key) {\n",
              "        const element = document.querySelector('#df-6cdbd0bf-f9de-49cb-8c95-a9599af37544');\n",
              "        const dataTable =\n",
              "          await google.colab.kernel.invokeFunction('convertToInteractive',\n",
              "                                                    [key], {});\n",
              "        if (!dataTable) return;\n",
              "\n",
              "        const docLinkHtml = 'Like what you see? Visit the ' +\n",
              "          '<a target=\"_blank\" href=https://colab.research.google.com/notebooks/data_table.ipynb>data table notebook</a>'\n",
              "          + ' to learn more about interactive tables.';\n",
              "        element.innerHTML = '';\n",
              "        dataTable['output_type'] = 'display_data';\n",
              "        await google.colab.output.renderOutput(dataTable, element);\n",
              "        const docLink = document.createElement('div');\n",
              "        docLink.innerHTML = docLinkHtml;\n",
              "        element.appendChild(docLink);\n",
              "      }\n",
              "    </script>\n",
              "  </div>\n",
              "\n",
              "\n",
              "    <div id=\"df-f1159a59-081a-4e1e-8896-5399a000fcd2\">\n",
              "      <button class=\"colab-df-quickchart\" onclick=\"quickchart('df-f1159a59-081a-4e1e-8896-5399a000fcd2')\"\n",
              "                title=\"Suggest charts\"\n",
              "                style=\"display:none;\">\n",
              "\n",
              "<svg xmlns=\"http://www.w3.org/2000/svg\" height=\"24px\"viewBox=\"0 0 24 24\"\n",
              "     width=\"24px\">\n",
              "    <g>\n",
              "        <path d=\"M19 3H5c-1.1 0-2 .9-2 2v14c0 1.1.9 2 2 2h14c1.1 0 2-.9 2-2V5c0-1.1-.9-2-2-2zM9 17H7v-7h2v7zm4 0h-2V7h2v10zm4 0h-2v-4h2v4z\"/>\n",
              "    </g>\n",
              "</svg>\n",
              "      </button>\n",
              "\n",
              "<style>\n",
              "  .colab-df-quickchart {\n",
              "      --bg-color: #E8F0FE;\n",
              "      --fill-color: #1967D2;\n",
              "      --hover-bg-color: #E2EBFA;\n",
              "      --hover-fill-color: #174EA6;\n",
              "      --disabled-fill-color: #AAA;\n",
              "      --disabled-bg-color: #DDD;\n",
              "  }\n",
              "\n",
              "  [theme=dark] .colab-df-quickchart {\n",
              "      --bg-color: #3B4455;\n",
              "      --fill-color: #D2E3FC;\n",
              "      --hover-bg-color: #434B5C;\n",
              "      --hover-fill-color: #FFFFFF;\n",
              "      --disabled-bg-color: #3B4455;\n",
              "      --disabled-fill-color: #666;\n",
              "  }\n",
              "\n",
              "  .colab-df-quickchart {\n",
              "    background-color: var(--bg-color);\n",
              "    border: none;\n",
              "    border-radius: 50%;\n",
              "    cursor: pointer;\n",
              "    display: none;\n",
              "    fill: var(--fill-color);\n",
              "    height: 32px;\n",
              "    padding: 0;\n",
              "    width: 32px;\n",
              "  }\n",
              "\n",
              "  .colab-df-quickchart:hover {\n",
              "    background-color: var(--hover-bg-color);\n",
              "    box-shadow: 0 1px 2px rgba(60, 64, 67, 0.3), 0 1px 3px 1px rgba(60, 64, 67, 0.15);\n",
              "    fill: var(--button-hover-fill-color);\n",
              "  }\n",
              "\n",
              "  .colab-df-quickchart-complete:disabled,\n",
              "  .colab-df-quickchart-complete:disabled:hover {\n",
              "    background-color: var(--disabled-bg-color);\n",
              "    fill: var(--disabled-fill-color);\n",
              "    box-shadow: none;\n",
              "  }\n",
              "\n",
              "  .colab-df-spinner {\n",
              "    border: 2px solid var(--fill-color);\n",
              "    border-color: transparent;\n",
              "    border-bottom-color: var(--fill-color);\n",
              "    animation:\n",
              "      spin 1s steps(1) infinite;\n",
              "  }\n",
              "\n",
              "  @keyframes spin {\n",
              "    0% {\n",
              "      border-color: transparent;\n",
              "      border-bottom-color: var(--fill-color);\n",
              "      border-left-color: var(--fill-color);\n",
              "    }\n",
              "    20% {\n",
              "      border-color: transparent;\n",
              "      border-left-color: var(--fill-color);\n",
              "      border-top-color: var(--fill-color);\n",
              "    }\n",
              "    30% {\n",
              "      border-color: transparent;\n",
              "      border-left-color: var(--fill-color);\n",
              "      border-top-color: var(--fill-color);\n",
              "      border-right-color: var(--fill-color);\n",
              "    }\n",
              "    40% {\n",
              "      border-color: transparent;\n",
              "      border-right-color: var(--fill-color);\n",
              "      border-top-color: var(--fill-color);\n",
              "    }\n",
              "    60% {\n",
              "      border-color: transparent;\n",
              "      border-right-color: var(--fill-color);\n",
              "    }\n",
              "    80% {\n",
              "      border-color: transparent;\n",
              "      border-right-color: var(--fill-color);\n",
              "      border-bottom-color: var(--fill-color);\n",
              "    }\n",
              "    90% {\n",
              "      border-color: transparent;\n",
              "      border-bottom-color: var(--fill-color);\n",
              "    }\n",
              "  }\n",
              "</style>\n",
              "\n",
              "      <script>\n",
              "        async function quickchart(key) {\n",
              "          const quickchartButtonEl =\n",
              "            document.querySelector('#' + key + ' button');\n",
              "          quickchartButtonEl.disabled = true;  // To prevent multiple clicks.\n",
              "          quickchartButtonEl.classList.add('colab-df-spinner');\n",
              "          try {\n",
              "            const charts = await google.colab.kernel.invokeFunction(\n",
              "                'suggestCharts', [key], {});\n",
              "          } catch (error) {\n",
              "            console.error('Error during call to suggestCharts:', error);\n",
              "          }\n",
              "          quickchartButtonEl.classList.remove('colab-df-spinner');\n",
              "          quickchartButtonEl.classList.add('colab-df-quickchart-complete');\n",
              "        }\n",
              "        (() => {\n",
              "          let quickchartButtonEl =\n",
              "            document.querySelector('#df-f1159a59-081a-4e1e-8896-5399a000fcd2 button');\n",
              "          quickchartButtonEl.style.display =\n",
              "            google.colab.kernel.accessAllowed ? 'block' : 'none';\n",
              "        })();\n",
              "      </script>\n",
              "    </div>\n",
              "\n",
              "  <div id=\"id_a204140c-eb0f-4f81-be51-0b6c130bc103\">\n",
              "    <style>\n",
              "      .colab-df-generate {\n",
              "        background-color: #E8F0FE;\n",
              "        border: none;\n",
              "        border-radius: 50%;\n",
              "        cursor: pointer;\n",
              "        display: none;\n",
              "        fill: #1967D2;\n",
              "        height: 32px;\n",
              "        padding: 0 0 0 0;\n",
              "        width: 32px;\n",
              "      }\n",
              "\n",
              "      .colab-df-generate:hover {\n",
              "        background-color: #E2EBFA;\n",
              "        box-shadow: 0px 1px 2px rgba(60, 64, 67, 0.3), 0px 1px 3px 1px rgba(60, 64, 67, 0.15);\n",
              "        fill: #174EA6;\n",
              "      }\n",
              "\n",
              "      [theme=dark] .colab-df-generate {\n",
              "        background-color: #3B4455;\n",
              "        fill: #D2E3FC;\n",
              "      }\n",
              "\n",
              "      [theme=dark] .colab-df-generate:hover {\n",
              "        background-color: #434B5C;\n",
              "        box-shadow: 0px 1px 3px 1px rgba(0, 0, 0, 0.15);\n",
              "        filter: drop-shadow(0px 1px 2px rgba(0, 0, 0, 0.3));\n",
              "        fill: #FFFFFF;\n",
              "      }\n",
              "    </style>\n",
              "    <button class=\"colab-df-generate\" onclick=\"generateWithVariable('df')\"\n",
              "            title=\"Generate code using this dataframe.\"\n",
              "            style=\"display:none;\">\n",
              "\n",
              "  <svg xmlns=\"http://www.w3.org/2000/svg\" height=\"24px\"viewBox=\"0 0 24 24\"\n",
              "       width=\"24px\">\n",
              "    <path d=\"M7,19H8.4L18.45,9,17,7.55,7,17.6ZM5,21V16.75L18.45,3.32a2,2,0,0,1,2.83,0l1.4,1.43a1.91,1.91,0,0,1,.58,1.4,1.91,1.91,0,0,1-.58,1.4L9.25,21ZM18.45,9,17,7.55Zm-12,3A5.31,5.31,0,0,0,4.9,8.1,5.31,5.31,0,0,0,1,6.5,5.31,5.31,0,0,0,4.9,4.9,5.31,5.31,0,0,0,6.5,1,5.31,5.31,0,0,0,8.1,4.9,5.31,5.31,0,0,0,12,6.5,5.46,5.46,0,0,0,6.5,12Z\"/>\n",
              "  </svg>\n",
              "    </button>\n",
              "    <script>\n",
              "      (() => {\n",
              "      const buttonEl =\n",
              "        document.querySelector('#id_a204140c-eb0f-4f81-be51-0b6c130bc103 button.colab-df-generate');\n",
              "      buttonEl.style.display =\n",
              "        google.colab.kernel.accessAllowed ? 'block' : 'none';\n",
              "\n",
              "      buttonEl.onclick = () => {\n",
              "        google.colab.notebook.generateWithVariable('df');\n",
              "      }\n",
              "      })();\n",
              "    </script>\n",
              "  </div>\n",
              "\n",
              "    </div>\n",
              "  </div>\n"
            ],
            "application/vnd.google.colaboratory.intrinsic+json": {
              "type": "dataframe",
              "variable_name": "df",
              "summary": "{\n  \"name\": \"df\",\n  \"rows\": 4,\n  \"fields\": [\n    {\n      \"column\": \"review\",\n      \"properties\": {\n        \"dtype\": \"string\",\n        \"num_unique_values\": 4,\n        \"samples\": [\n          \"This film was a complete waste of time.\",\n          \"I absolutely loved every second of it.\",\n          \"The movie was breathtaking and emotional!\"\n        ],\n        \"semantic_type\": \"\",\n        \"description\": \"\"\n      }\n    }\n  ]\n}"
            }
          },
          "metadata": {},
          "execution_count": 6
        }
      ]
    },
    {
      "cell_type": "markdown",
      "source": [
        "Zero-Shot Prompring"
      ],
      "metadata": {
        "id": "0FhSEQA-5Wfl"
      }
    },
    {
      "cell_type": "code",
      "source": [
        "for r in df['review']:\n",
        "  response=client.chat.completions.create(\n",
        "      model='gpt-3.5-turbo',\n",
        "      messages=[{\"role\": \"user\",\n",
        "                   \"content\": f\"Classify the sentiment of this review as Positive or Negative:\\n\\n{r}\"}])\n",
        "  print(r,response.choices[0].message.content.strip())"
      ],
      "metadata": {
        "colab": {
          "base_uri": "https://localhost:8080/"
        },
        "id": "Yr9kWUvR3IxW",
        "outputId": "4763f896-2ce6-41fa-96b0-91c91f98e3f1"
      },
      "execution_count": null,
      "outputs": [
        {
          "output_type": "stream",
          "name": "stdout",
          "text": [
            "The movie was breathtaking and emotional! Positive\n",
            "This film was a complete waste of time. Negative\n",
            "Decent acting but the plot was predictable. Negative\n",
            "I absolutely loved every second of it. Positive\n"
          ]
        }
      ]
    },
    {
      "cell_type": "markdown",
      "source": [
        "One shot prompting"
      ],
      "metadata": {
        "id": "vUNVCzON6q64"
      }
    },
    {
      "cell_type": "code",
      "source": [
        "example=\"Example:'I hated the movie.'--> Negative\"\n",
        "for r in df['review']:\n",
        "  response=client.chat.completions.create(\n",
        "      model='gpt-3.5-turbo',\n",
        "      messages=[{\"role\":\"user\",'content':f\"{example}\\n Now classify this review:\\n{r}\"}]  )\n",
        "  print(r,response.choices[0].message.content.strip())"
      ],
      "metadata": {
        "colab": {
          "base_uri": "https://localhost:8080/"
        },
        "id": "N3E8FF-t59jU",
        "outputId": "4a69ff34-0d00-402a-b06b-9b6c8a63eebf"
      },
      "execution_count": null,
      "outputs": [
        {
          "output_type": "stream",
          "name": "stdout",
          "text": [
            "The movie was breathtaking and emotional! Example: 'The movie was breathtaking and emotional.'--> Positive\n",
            "This film was a complete waste of time. Negative\n",
            "Decent acting but the plot was predictable. Negative\n",
            "I absolutely loved every second of it. Positive\n"
          ]
        }
      ]
    },
    {
      "cell_type": "markdown",
      "source": [
        "Role Prompting"
      ],
      "metadata": {
        "id": "zW1-yV_O7zYI"
      }
    },
    {
      "cell_type": "code",
      "source": [
        "for r in df[\"review\"]:\n",
        "    response = client.chat.completions.create(\n",
        "        model=\"gpt-3.5-turbo\",\n",
        "        messages=[\n",
        "            {\"role\": \"system\", \"content\": \"You are a world-class movie critic who must judge sentiment.\"},\n",
        "            {\"role\": \"user\", \"content\": f\"Review: {r}\\nGive sentiment (Positive/Negative).\"}\n",
        "        ]\n",
        "    )\n",
        "    print(r, \"→\", response.choices[0].message.content.strip())\n"
      ],
      "metadata": {
        "colab": {
          "base_uri": "https://localhost:8080/"
        },
        "id": "XXF00CZb7xdx",
        "outputId": "51f5ba3b-d0a2-4e50-b8cd-0c6c3a438fc5"
      },
      "execution_count": null,
      "outputs": [
        {
          "output_type": "stream",
          "name": "stdout",
          "text": [
            "The movie was breathtaking and emotional! → Sentiment: Positive\n",
            "This film was a complete waste of time. → Sentiment: Negative\n",
            "Decent acting but the plot was predictable. → Negative\n",
            "I absolutely loved every second of it. → Sentiment: Positive.\n"
          ]
        }
      ]
    },
    {
      "cell_type": "markdown",
      "source": [
        "Chain of Thought prompting"
      ],
      "metadata": {
        "id": "Nc8PntIb89xN"
      }
    },
    {
      "cell_type": "code",
      "source": [
        "for r in df[\"review\"]:\n",
        "    response = client.chat.completions.create(\n",
        "        model=\"gpt-3.5-turbo\",\n",
        "        messages=[{\"role\": \"user\",\n",
        "                   \"content\": f\"Classify the sentiment. Think step by step and explain reasoning, then give final answer:\\n\\n{r}\"}]\n",
        "    )\n",
        "    print(r, \"→\", response.choices[0].message.content.strip())\n",
        "    print(\"\\n\")\n",
        "    print(\"----\"*10)\n"
      ],
      "metadata": {
        "colab": {
          "base_uri": "https://localhost:8080/"
        },
        "id": "_EqzvbOS6Ctw",
        "outputId": "c6be8a2c-6004-4112-dd83-ff6f7935154d"
      },
      "execution_count": null,
      "outputs": [
        {
          "output_type": "stream",
          "name": "stdout",
          "text": [
            "The movie was breathtaking and emotional! → Step 1: Identify key words and phrases\n",
            "- \"breathtaking\"\n",
            "- \"emotional\"\n",
            "\n",
            "Step 2: Determine the overall tone conveyed by the words\n",
            "- The words \"breathtaking\" and \"emotional\" suggest positive feelings and a strong emotional impact.\n",
            "\n",
            "Step 3: Consider the context\n",
            "- The context is a movie review, indicating that the speaker is expressing their feelings about a movie.\n",
            "\n",
            "Final answer: Positive sentiment.\n",
            "\n",
            "\n",
            "----------------------------------------\n",
            "This film was a complete waste of time. → Step 1: Identify key words and phrases\n",
            "- \"complete waste of time\"\n",
            "\n",
            "Step 2: Determine sentiment\n",
            "- The use of the phrase \"complete waste of time\" indicates a negative sentiment.\n",
            "\n",
            "Final answer: Negative sentiment\n",
            "\n",
            "\n",
            "----------------------------------------\n",
            "Decent acting but the plot was predictable. → 1. \"Decent acting\" - Positive sentiment as the acting was considered good or satisfactory.\n",
            "2. \"But the plot was predictable\" - Negative sentiment as the plot was not engaging or surprising.\n",
            "\n",
            "Final sentiment classification: Mixed/Neutral - While the acting was praised, the predictability of the plot brought down the overall enjoyment of the experience.\n",
            "\n",
            "\n",
            "----------------------------------------\n",
            "I absolutely loved every second of it. → 1. The statement is positive in nature as it expresses love and enjoyment.\n",
            "2. The use of the word \"absolutely\" emphasizes the strong positive feeling towards the subject.\n",
            "3. The phrase \"every second of it\" further emphasizes the completeness of the positive experience.\n",
            "\n",
            "Final answer: Positive sentiment\n",
            "\n",
            "\n",
            "----------------------------------------\n"
          ]
        }
      ]
    },
    {
      "cell_type": "markdown",
      "source": [
        "Prompting Chaining:Use multi-step prompts (output from one becomes input to another)."
      ],
      "metadata": {
        "id": "ycd4UO-K9169"
      }
    },
    {
      "cell_type": "code",
      "source": [
        "for r in df[\"review\"]:\n",
        "    # Step 1: Summarize\n",
        "    summary = client.chat.completions.create(\n",
        "        model=\"gpt-3.5-turbo\",\n",
        "        messages=[{\"role\": \"user\", \"content\": f\"Summarize this review in one line:\\n{r}\"}]\n",
        "    ).choices[0].message.content.strip()\n",
        "\n",
        "    # Step 2: Classify\n",
        "    sentiment = client.chat.completions.create(\n",
        "        model=\"gpt-3.5-turbo\",\n",
        "        messages=[{\"role\": \"user\", \"content\": f\"Classify this summary as Positive or Negative:\\n{summary}\"}]\n",
        "    ).choices[0].message.content.strip()\n",
        "\n",
        "    print(r, \"→\", summary, \"→\", sentiment)\n"
      ],
      "metadata": {
        "colab": {
          "base_uri": "https://localhost:8080/"
        },
        "id": "QrGmg6x19WTz",
        "outputId": "80bf692f-3fff-4295-d1fc-3f18d0a9abaa"
      },
      "execution_count": null,
      "outputs": [
        {
          "output_type": "stream",
          "name": "stdout",
          "text": [
            "The movie was breathtaking and emotional! → A powerful and emotionally moving film that captivates the audience. → Positive\n",
            "This film was a complete waste of time. → The film was deemed as a waste of time by the reviewer. → Negative\n",
            "Decent acting but the plot was predictable. → The film had good acting but lacked a surprising plot. → Negative\n",
            "I absolutely loved every second of it. → A glowing and enthusiastic endorsement of the experience. → Positive\n"
          ]
        }
      ]
    },
    {
      "cell_type": "markdown",
      "source": [
        "Negative Example Prompting"
      ],
      "metadata": {
        "id": "DIioGjOfFTKY"
      }
    },
    {
      "cell_type": "code",
      "source": [
        "bad_example = \"Incorrect: 'I hated the movie.' → Positive\"\n",
        "\n",
        "for r in df[\"review\"]:\n",
        "    response = client.chat.completions.create(\n",
        "        model=\"gpt-3.5-turbo\",\n",
        "        messages=[{\"role\": \"user\",\n",
        "                   \"content\": f\"{bad_example}\\nThis is wrong. Instead, classify correctly:\\n{r}\"}]\n",
        "    )\n",
        "    print(r, \"→\", response.choices[0].message.content.strip())\n"
      ],
      "metadata": {
        "colab": {
          "base_uri": "https://localhost:8080/"
        },
        "id": "mw44_td5FOwz",
        "outputId": "1b1c20d6-038a-49a5-800b-59862f923c28"
      },
      "execution_count": null,
      "outputs": [
        {
          "output_type": "stream",
          "name": "stdout",
          "text": [
            "The movie was breathtaking and emotional! → Correct: Positive\n",
            "This film was a complete waste of time. → Negative\n",
            "Decent acting but the plot was predictable. → Neutral\n",
            "I absolutely loved every second of it. → Correct: 'I absolutely loved every second of it.' → Positive\n"
          ]
        }
      ]
    },
    {
      "cell_type": "markdown",
      "source": [
        "Advance prompt Engineering technique"
      ],
      "metadata": {
        "id": "bHcPOsbMGOzf"
      }
    },
    {
      "cell_type": "markdown",
      "source": [
        "Chain of Thought:Tell the model: “Think step by step”. Forces reasoning before conclusion."
      ],
      "metadata": {
        "id": "gHSPNfRNGVBD"
      }
    },
    {
      "cell_type": "code",
      "source": [
        "question=\"If i have 3 apples and eat one i have how many apples left?\"\n",
        "response=client.chat.completions.create(\n",
        "    model='gpt-3.5-turbo',\n",
        "    messages=[{\n",
        "        \"role\": \"user\",\n",
        "        \"content\":f'Answer the following . Think sptep by step ,then give final answer:\\n{question}'\n",
        "    }]\n",
        ")\n",
        "print(response.choices[0].message.content)"
      ],
      "metadata": {
        "colab": {
          "base_uri": "https://localhost:8080/"
        },
        "id": "q5YuNk5fGUb4",
        "outputId": "2ecec11b-c146-4548-d1cb-d1c9f22c5b9d"
      },
      "execution_count": null,
      "outputs": [
        {
          "output_type": "stream",
          "name": "stdout",
          "text": [
            "Step 1: Start with 3 apples. \n",
            "Step 2: Eat one apple. \n",
            "Step 3: Count how many apples are left. \n",
            "\n",
            "Final answer: 2 apples left.\n"
          ]
        }
      ]
    },
    {
      "cell_type": "markdown",
      "source": [
        "Self-Consistency(COT++)\n"
      ],
      "metadata": {
        "id": "nDoZbe4MHUci"
      }
    },
    {
      "cell_type": "markdown",
      "source": [
        "Don’t trust the first chain. Sample multiple reasoning paths -->pick majority."
      ],
      "metadata": {
        "id": "k-BPbgTAHlpD"
      }
    },
    {
      "cell_type": "code",
      "source": [
        "import  collections\n",
        "answers=[]\n",
        "for _  in range(5):\n",
        "  response=client.chat.completions.create(\n",
        "      model='gpt-3.5-turbo',\n",
        "      temperature=1.2,\n",
        "      messages=[{\n",
        "          \"role\":\"user\",\n",
        "          \"content\":\"Think step by step :If a train leaves at 3 pm and takes 2 hours, what time will it arrive ?\"\n",
        "      }])\n",
        "  answers.append(response.choices[0].message.content)\n",
        "final=collections.Counter(answers).most_common(1)[0][0]\n",
        "print(\"ALL outputs :\",answers)\n",
        "print(\"final \",final)"
      ],
      "metadata": {
        "colab": {
          "base_uri": "https://localhost:8080/"
        },
        "id": "i0IveGrOGLUq",
        "outputId": "f70ed843-82c4-4bcf-d3d9-a7249037c633"
      },
      "execution_count": null,
      "outputs": [
        {
          "output_type": "stream",
          "name": "stdout",
          "text": [
            "ALL outputs : ['Step 1: The train leaves at 3 pm.\\n\\nStep 2: The train takes 2 hours to reach its destination.\\n\\nStep 3: Add 2 hours to the departure time of 3 pm. \\n\\nStep 4: 3 pm + 2 hours = 5 pm \\n\\nStep 5: The train will arrive at 5 pm.', 'Step 1: The train leaves at 3 pm and takes 2 hours\\nStep 2: To find the arrival time, add the 2 hours of travel time to the departure time of 3 pm\\nStep 3: 3 pm + 2 hours = 5 pm\\nStep 4: Therefore, the train will arrive at 5 pm.', 'Step 1: The train leaves at 3 pm.\\n\\nStep 2: The train takes 2 hours to reach its destination.\\n\\nStep 3: Add 2 hours to the departure time. \\n\\nStep 4: 3pm + 2 hours = 5pm\\n\\nStep 5: The train will arrive at its destination at 5 pm.', 'If the train leaves at 3 pm and takes 2 hours, we can add those 2 hours to the departure time of 3 pm:\\n\\n3 pm + 2 hours = 5 pm\\n\\nTherefore, the train will arrive at its destination at 5 pm.', '1. The train leaves at 3 pm.\\n2. It takes 2 hours to reach its destination.\\n3. Add 2 hours to 3 pm to calculate the arrival time.\\n4. 3 pm + 2 hours = 5 pm\\n5. The train will arrive at 5 pm.']\n",
            "final  Step 1: The train leaves at 3 pm.\n",
            "\n",
            "Step 2: The train takes 2 hours to reach its destination.\n",
            "\n",
            "Step 3: Add 2 hours to the departure time of 3 pm. \n",
            "\n",
            "Step 4: 3 pm + 2 hours = 5 pm \n",
            "\n",
            "Step 5: The train will arrive at 5 pm.\n"
          ]
        }
      ]
    },
    {
      "cell_type": "markdown",
      "source": [
        "Tree of thoughts(TOT)"
      ],
      "metadata": {
        "id": "wDvXJYX8JqTI"
      }
    },
    {
      "cell_type": "markdown",
      "source": [
        "nstead of one chain, the model explores multiple reasoning branches at each step → prunes the best.\n",
        "Good for puzzles, planning, math."
      ],
      "metadata": {
        "id": "x62msgn_Ju6d"
      }
    },
    {
      "cell_type": "code",
      "source": [
        "question = \"You have to plan dinner with 3 ingredients. Suggest creative options.\"\n",
        "def generate_branches(prompt):\n",
        "    response = client.chat.completions.create(\n",
        "        model=\"gpt-3.5-turbo\",\n",
        "        temperature=1.0,\n",
        "        messages=[{\"role\": \"user\", \"content\": prompt}]\n",
        "    )\n",
        "    return response.choices[0].message.content.strip().split(\"\\n\")\n",
        "\n",
        "# Root prompt\n",
        "branches = generate_branches(f\"Think of 3 different ideas. Question: {question}\")\n",
        "\n",
        "# Expand each branch\n",
        "tree = {}\n",
        "for b in branches:\n",
        "    tree[b] = generate_branches(f\"Refine this idea into 3 variants: {b}\")\n",
        "print(tree)\n"
      ],
      "metadata": {
        "colab": {
          "base_uri": "https://localhost:8080/"
        },
        "id": "SuGpxPTCFZAA",
        "outputId": "fc24c7d3-2171-4dbb-b490-7538221b582b"
      },
      "execution_count": null,
      "outputs": [
        {
          "output_type": "stream",
          "name": "stdout",
          "text": [
            "{'1. Grilled Peach and Prosciutto Salad with Balsamic Glaze:': ['1. Grilled Peach and Prosciutto Salad with a Drizzle of Balsamic Reduction', '2. Balsamic Glazed Grilled Peach and Prosciutto Salad', '3. Summer Salad: Grilled Peach, Prosciutto, and Balsamic Glaze'], '   - Ingredients: Fresh peaches, prosciutto, balsamic glaze': ['1. Grilled Peach and Prosciutto Skewers drizzled with Balsamic Glaze', '2. Peach and Prosciutto Crostini topped with a Balsamic Glaze Reduction', '3. Arugula Salad with Fresh Peaches, Crispy Prosciutto, and Balsamic Glaze Drizzle'], '   - Instructions: Slice the peaches and grill them until they have grill marks. Tear the prosciutto into pieces and toss with the grilled peaches. Drizzle with balsamic glaze and serve as a light and flavorful salad.': ['1. Grilled Peach and Prosciutto Salad: Grill the peaches until caramelized, then combine with torn prosciutto and drizzle with balsamic glaze for a delicious and light salad option.', '', '2. Balsamic Peach and Prosciutto Salad: Slice and grill the peaches to perfection before tossing with torn prosciutto and finishing off with a generous drizzle of balsamic glaze for an elegant salad.', '', '3. Prosciutto-Wrapped Grilled Peach Salad: Wrap grilled peach slices in prosciutto and top with a balsamic glaze for a savory and sweet salad that is sure to impress.'], '': ['1. A subscription box service that curates gourmet snacks from around the world, delivering a new selection of treats each month for customers to try and enjoy.', '', '2. A snack bar with a rotating menu of international snacks, allowing customers to sample unique and delicious treats from different countries without having to travel.', '', '3. An online store specializing in artisanal snacks sourced from small producers worldwide, offering customers the opportunity to discover and support local snack makers while enjoying high-quality and exotic flavors.'], '2. Lemon Garlic Shrimp Skewers with Orzo Salad:': ['1. Lemon Garlic Shrimp Skewers with Mediterranean Orzo Salad: This variant enhances the traditional shrimp skewers with a Mediterranean twist by incorporating flavors such as olives, feta cheese, and cherry tomatoes into the orzo salad.', '', '2. Lemon Garlic Shrimp Skewers with Roasted Vegetable Orzo Salad: In this variant, the orzo salad is packed with roasted vegetables like bell peppers, zucchini, and red onions to create a hearty and nutritious side dish to complement the shrimp skewers.', '', '3. Lemon Garlic Shrimp Skewers with Herb-infused Orzo Salad: This variant infuses the orzo salad with fresh herbs such as parsley, basil, and dill to add a burst of flavor and freshness to the dish, making it a perfect pairing for the succulent shrimp skewers.'], '   - Ingredients: Shrimp, lemon, garlic, orzo': ['1. Shrimp Scampi Orzo: A delicious dish featuring juicy shrimp, zesty lemon, and flavorful garlic sautéed with orzo pasta for a satisfying meal.', '', '2. Lemon Garlic Shrimp Orzo: Tangy lemon and aromatic garlic combined with succulent shrimp and orzo pasta, creating a light and refreshing dish perfect for any occasion.', '', '3. Orzo with Shrimp, Lemon, and Garlic: A comforting and satisfying meal of orzo pasta tossed with plump shrimp, fresh lemon juice, and savory garlic for a burst of flavor in every bite.'], '   - Instructions: Marinate shrimp in a mixture of lemon juice, minced garlic, and olive oil. Skewer and grill until cooked through. Serve over a bed of cooked orzo mixed with diced tomatoes, cucumbers, feta cheese, and fresh herbs for a Mediterranean-inspired dish.': ['1. Variation: Marinate shrimp in a blend of lime juice, crushed ginger, and soy sauce. Grill to perfection and serve on a bed of quinoa mixed with roasted bell peppers, black beans, avocado chunks, and cilantro for a refreshing, Latin-inspired meal.', '', '2. Variation: Marinate shrimp in a combination of orange juice, honey, and chili flakes. Thread onto skewers and grill until done. Serve over a bed of coconut jasmine rice mixed with pineapple chunks, bell peppers, snap peas, and chopped scallions for a tropical twist on a traditional dish.', '', '3. Variation: Marinate shrimp in a mixture of balsamic vinegar, Dijon mustard, and honey. Skewer and grill until shrimp are pink and opaque. Serve over a bed of wild rice mixed with roasted butternut squash, dried cranberries, toasted walnuts, and chopped sage for a savory and autumn-inspired meal.'], '3. Spicy Honey Glazed Chicken with Roasted Carrots and Quinoa:': ['1. Spicy Honey Glazed Chicken served with a side of Roasted Carrots and Quinoa: A savory and sweet dish that pairs tender, spicy chicken with caramelized roasted carrots and fluffy quinoa for a balanced and satisfying meal.', '', '2. Roasted Carrots and Quinoa topped with Spicy Honey Glazed Chicken: Enjoy a flavorful combination of roasted carrots and nutty quinoa, topped with succulent chicken coated in a spicy honey glaze for a delicious and wholesome dinner option.', '', '3. Quinoa Bowl with Spicy Honey Glazed Chicken and Roasted Carrots: Dive into a bowl of nutritious quinoa layered with spicy honey glazed chicken and tender roasted carrots for a flavorful and nutritious meal that will delight your taste buds.'], '   - Ingredients: Chicken thighs, honey, hot sauce, carrots, quinoa': ['1. Spicy Honey Glazed Chicken Thighs with Carrot Quinoa Salad', '2. Honey Sriracha Chicken Thighs with Quinoa and Roasted Carrots', '3. Sticky Honey Hot Sauce Chicken Thighs served with Carrot Quinoa Pilaf'], '   - Instructions: Marinate chicken thighs in a mixture of honey and hot sauce, then grill or bake until cooked through. Toss carrots with olive oil, salt, and pepper, then roast in the oven until caramelized. Serve the chicken and carrots over cooked quinoa for a nutritious and flavorful meal.': ['1. Asian-inspired twist: Marinate chicken thighs in a mixture of soy sauce, garlic, and ginger, then grill or bake until cooked through. Toss carrots with sesame oil, soy sauce, and a sprinkle of sesame seeds, then roast in the oven until caramelized. Serve the chicken and carrots over cooked brown rice for a delicious and nutritious meal with an Asian flair.', '', '2. Mediterranean twist: Marinate chicken thighs in a mixture of lemon juice, oregano, and garlic, then grill or bake until cooked through. Toss carrots with balsamic vinegar, Italian seasoning, and a touch of honey, then roast in the oven until caramelized. Serve the chicken and carrots over cooked couscous for a flavorful and satisfying Mediterranean-inspired meal.', '', '3. Southwest twist: Marinate chicken thighs in a mixture of lime juice, cumin, and chili powder, then grill or bake until cooked through. Toss carrots with cumin, paprika, and a dash of cayenne pepper, then roast in the oven until caramelized. Serve the chicken and carrots over cooked quinoa, topped with avocado slices and a dollop of Greek yogurt for a spicy and satisfying Southwest-inspired meal.']}\n"
          ]
        }
      ]
    },
    {
      "cell_type": "markdown",
      "source": [
        "Embeddings"
      ],
      "metadata": {
        "id": "tW5O6aIMh6j9"
      }
    },
    {
      "cell_type": "code",
      "source": [
        "pip install openai numpy scikit-learn nltk"
      ],
      "metadata": {
        "colab": {
          "base_uri": "https://localhost:8080/"
        },
        "id": "MHlHDn_siqWx",
        "outputId": "821eedd8-4adc-419f-d6c7-1859dd961d92"
      },
      "execution_count": null,
      "outputs": [
        {
          "output_type": "stream",
          "name": "stdout",
          "text": [
            "Requirement already satisfied: openai in /usr/local/lib/python3.12/dist-packages (1.104.2)\n",
            "Requirement already satisfied: numpy in /usr/local/lib/python3.12/dist-packages (2.0.2)\n",
            "Requirement already satisfied: scikit-learn in /usr/local/lib/python3.12/dist-packages (1.6.1)\n",
            "Requirement already satisfied: nltk in /usr/local/lib/python3.12/dist-packages (3.9.1)\n",
            "Requirement already satisfied: anyio<5,>=3.5.0 in /usr/local/lib/python3.12/dist-packages (from openai) (4.10.0)\n",
            "Requirement already satisfied: distro<2,>=1.7.0 in /usr/local/lib/python3.12/dist-packages (from openai) (1.9.0)\n",
            "Requirement already satisfied: httpx<1,>=0.23.0 in /usr/local/lib/python3.12/dist-packages (from openai) (0.28.1)\n",
            "Requirement already satisfied: jiter<1,>=0.4.0 in /usr/local/lib/python3.12/dist-packages (from openai) (0.10.0)\n",
            "Requirement already satisfied: pydantic<3,>=1.9.0 in /usr/local/lib/python3.12/dist-packages (from openai) (2.11.7)\n",
            "Requirement already satisfied: sniffio in /usr/local/lib/python3.12/dist-packages (from openai) (1.3.1)\n",
            "Requirement already satisfied: tqdm>4 in /usr/local/lib/python3.12/dist-packages (from openai) (4.67.1)\n",
            "Requirement already satisfied: typing-extensions<5,>=4.11 in /usr/local/lib/python3.12/dist-packages (from openai) (4.15.0)\n",
            "Requirement already satisfied: scipy>=1.6.0 in /usr/local/lib/python3.12/dist-packages (from scikit-learn) (1.16.1)\n",
            "Requirement already satisfied: joblib>=1.2.0 in /usr/local/lib/python3.12/dist-packages (from scikit-learn) (1.5.2)\n",
            "Requirement already satisfied: threadpoolctl>=3.1.0 in /usr/local/lib/python3.12/dist-packages (from scikit-learn) (3.6.0)\n",
            "Requirement already satisfied: click in /usr/local/lib/python3.12/dist-packages (from nltk) (8.2.1)\n",
            "Requirement already satisfied: regex>=2021.8.3 in /usr/local/lib/python3.12/dist-packages (from nltk) (2024.11.6)\n",
            "Requirement already satisfied: idna>=2.8 in /usr/local/lib/python3.12/dist-packages (from anyio<5,>=3.5.0->openai) (3.10)\n",
            "Requirement already satisfied: certifi in /usr/local/lib/python3.12/dist-packages (from httpx<1,>=0.23.0->openai) (2025.8.3)\n",
            "Requirement already satisfied: httpcore==1.* in /usr/local/lib/python3.12/dist-packages (from httpx<1,>=0.23.0->openai) (1.0.9)\n",
            "Requirement already satisfied: h11>=0.16 in /usr/local/lib/python3.12/dist-packages (from httpcore==1.*->httpx<1,>=0.23.0->openai) (0.16.0)\n",
            "Requirement already satisfied: annotated-types>=0.6.0 in /usr/local/lib/python3.12/dist-packages (from pydantic<3,>=1.9.0->openai) (0.7.0)\n",
            "Requirement already satisfied: pydantic-core==2.33.2 in /usr/local/lib/python3.12/dist-packages (from pydantic<3,>=1.9.0->openai) (2.33.2)\n",
            "Requirement already satisfied: typing-inspection>=0.4.0 in /usr/local/lib/python3.12/dist-packages (from pydantic<3,>=1.9.0->openai) (0.4.1)\n"
          ]
        }
      ]
    },
    {
      "cell_type": "code",
      "source": [
        "import numpy as np\n",
        "import pandas as pd\n",
        "from sklearn.metrics.pairwise import cosine_similarity\n",
        "from openai import OpenAI\n",
        "import nltk\n",
        "nltk.download('punkt')\n",
        "\n",
        "#init OpenAI client\n",
        "client=OpenAI(api_key=your_api_key)\n",
        "#sample dataset\n",
        "data={\n",
        "    \"review\":[\"The movie was breathtaking and emotional!\",\n",
        "        \"This film was a complete waste of time.\",\n",
        "        \"Decent acting but the plot was predictable.\",\n",
        "        \"I absolutely loved every second of it.\"]\n",
        "}\n",
        "df=pd.DataFrame(data)"
      ],
      "metadata": {
        "colab": {
          "base_uri": "https://localhost:8080/"
        },
        "id": "0AkYNSNQMhWy",
        "outputId": "bee3ba96-d5d6-4e4a-b2fd-fb4674db0fc9"
      },
      "execution_count": null,
      "outputs": [
        {
          "output_type": "stream",
          "name": "stderr",
          "text": [
            "[nltk_data] Downloading package punkt to /root/nltk_data...\n",
            "[nltk_data]   Unzipping tokenizers/punkt.zip.\n"
          ]
        }
      ]
    },
    {
      "cell_type": "markdown",
      "source": [
        "#1.Chatacter-level Embeddings"
      ],
      "metadata": {
        "id": "Vc5qiAD4i7Fb"
      }
    },
    {
      "cell_type": "code",
      "source": [
        "def char_embedding(text):\n",
        "  alphabet=\"abcdefghijklmnopqrstuvwxyz\"\n",
        "  vec=np.zeros(len(alphabet))\n",
        "  for c in text.lower():\n",
        "    if c in alphabet:\n",
        "      vec[alphabet.index(c)]+=1\n",
        "  return vec/(np.linalg.norm(vec)+1e-8) #np.linalg.norm(vec) = Euclidean length of the vector.\n",
        "df[\"char_vec\"]=df['review'].apply(char_embedding)\n",
        "df['char_vec']"
      ],
      "metadata": {
        "colab": {
          "base_uri": "https://localhost:8080/",
          "height": 209
        },
        "id": "5NTq06JOimTf",
        "outputId": "301309b1-21d3-4e1e-df17-288cde4c2a17"
      },
      "execution_count": null,
      "outputs": [
        {
          "output_type": "execute_result",
          "data": {
            "text/plain": [
              "0    [0.497518594609945, 0.099503718921989, 0.0, 0....\n",
              "1    [0.3216337601065108, 0.0, 0.10721125336883694,...\n",
              "2    [0.2860387765009504, 0.19069251766730028, 0.28...\n",
              "3    [0.1111111109876543, 0.1111111109876543, 0.111...\n",
              "Name: char_vec, dtype: object"
            ],
            "text/html": [
              "<div>\n",
              "<style scoped>\n",
              "    .dataframe tbody tr th:only-of-type {\n",
              "        vertical-align: middle;\n",
              "    }\n",
              "\n",
              "    .dataframe tbody tr th {\n",
              "        vertical-align: top;\n",
              "    }\n",
              "\n",
              "    .dataframe thead th {\n",
              "        text-align: right;\n",
              "    }\n",
              "</style>\n",
              "<table border=\"1\" class=\"dataframe\">\n",
              "  <thead>\n",
              "    <tr style=\"text-align: right;\">\n",
              "      <th></th>\n",
              "      <th>char_vec</th>\n",
              "    </tr>\n",
              "  </thead>\n",
              "  <tbody>\n",
              "    <tr>\n",
              "      <th>0</th>\n",
              "      <td>[0.497518594609945, 0.099503718921989, 0.0, 0....</td>\n",
              "    </tr>\n",
              "    <tr>\n",
              "      <th>1</th>\n",
              "      <td>[0.3216337601065108, 0.0, 0.10721125336883694,...</td>\n",
              "    </tr>\n",
              "    <tr>\n",
              "      <th>2</th>\n",
              "      <td>[0.2860387765009504, 0.19069251766730028, 0.28...</td>\n",
              "    </tr>\n",
              "    <tr>\n",
              "      <th>3</th>\n",
              "      <td>[0.1111111109876543, 0.1111111109876543, 0.111...</td>\n",
              "    </tr>\n",
              "  </tbody>\n",
              "</table>\n",
              "</div><br><label><b>dtype:</b> object</label>"
            ]
          },
          "metadata": {},
          "execution_count": 34
        }
      ]
    },
    {
      "cell_type": "markdown",
      "source": [
        "#2. Word-Level embedding"
      ],
      "metadata": {
        "id": "XVmEpVkllEJU"
      }
    },
    {
      "cell_type": "code",
      "source": [
        "from sklearn.feature_extraction.text import CountVectorizer\n",
        "vectorizer=CountVectorizer()\n",
        "word_vecs=vectorizer.fit_transform(df['review']).toarray()\n",
        "df['word_vec']=list(word_vecs)\n",
        "df['word_vec']"
      ],
      "metadata": {
        "colab": {
          "base_uri": "https://localhost:8080/",
          "height": 209
        },
        "id": "EzL8p9Frjngu",
        "outputId": "5e201ad1-3c7f-473e-e436-b70e24209721"
      },
      "execution_count": null,
      "outputs": [
        {
          "output_type": "execute_result",
          "data": {
            "text/plain": [
              "0    [0, 0, 1, 1, 0, 0, 0, 1, 0, 0, 0, 0, 1, 0, 0, ...\n",
              "1    [0, 0, 0, 0, 0, 1, 0, 0, 0, 1, 0, 0, 0, 1, 0, ...\n",
              "2    [0, 1, 0, 0, 1, 0, 1, 0, 0, 0, 0, 0, 0, 0, 1, ...\n",
              "3    [1, 0, 0, 0, 0, 0, 0, 0, 1, 0, 1, 1, 0, 1, 0, ...\n",
              "Name: word_vec, dtype: object"
            ],
            "text/html": [
              "<div>\n",
              "<style scoped>\n",
              "    .dataframe tbody tr th:only-of-type {\n",
              "        vertical-align: middle;\n",
              "    }\n",
              "\n",
              "    .dataframe tbody tr th {\n",
              "        vertical-align: top;\n",
              "    }\n",
              "\n",
              "    .dataframe thead th {\n",
              "        text-align: right;\n",
              "    }\n",
              "</style>\n",
              "<table border=\"1\" class=\"dataframe\">\n",
              "  <thead>\n",
              "    <tr style=\"text-align: right;\">\n",
              "      <th></th>\n",
              "      <th>word_vec</th>\n",
              "    </tr>\n",
              "  </thead>\n",
              "  <tbody>\n",
              "    <tr>\n",
              "      <th>0</th>\n",
              "      <td>[0, 0, 1, 1, 0, 0, 0, 1, 0, 0, 0, 0, 1, 0, 0, ...</td>\n",
              "    </tr>\n",
              "    <tr>\n",
              "      <th>1</th>\n",
              "      <td>[0, 0, 0, 0, 0, 1, 0, 0, 0, 1, 0, 0, 0, 1, 0, ...</td>\n",
              "    </tr>\n",
              "    <tr>\n",
              "      <th>2</th>\n",
              "      <td>[0, 1, 0, 0, 1, 0, 1, 0, 0, 0, 0, 0, 0, 0, 1, ...</td>\n",
              "    </tr>\n",
              "    <tr>\n",
              "      <th>3</th>\n",
              "      <td>[1, 0, 0, 0, 0, 0, 0, 0, 1, 0, 1, 1, 0, 1, 0, ...</td>\n",
              "    </tr>\n",
              "  </tbody>\n",
              "</table>\n",
              "</div><br><label><b>dtype:</b> object</label>"
            ]
          },
          "metadata": {},
          "execution_count": 37
        }
      ]
    },
    {
      "cell_type": "markdown",
      "source": [
        "Sentence-Level Embeddings (OpenAI API)"
      ],
      "metadata": {
        "id": "LUHkx17Slpky"
      }
    },
    {
      "cell_type": "code",
      "source": [
        "sentence_vecs = []\n",
        "for r in df[\"review\"]:\n",
        "    emb = client.embeddings.create(\n",
        "        model=\"text-embedding-3-small\",\n",
        "        input=r\n",
        "    ).data[0].embedding\n",
        "    sentence_vecs.append(emb)\n",
        "df[\"sentence_vec\"] = sentence_vecs\n",
        "df[\"sentence_vec\"]"
      ],
      "metadata": {
        "colab": {
          "base_uri": "https://localhost:8080/",
          "height": 209
        },
        "id": "Y44mkgRSlO2l",
        "outputId": "4c9b6d0e-c094-459c-e782-5d58dfe941a2"
      },
      "execution_count": null,
      "outputs": [
        {
          "output_type": "execute_result",
          "data": {
            "text/plain": [
              "0    [-0.031178174540400505, 0.011328460648655891, ...\n",
              "1    [-0.02348867431282997, 0.0749022513628006, -0....\n",
              "2    [-0.007894045673310757, 0.030286453664302826, ...\n",
              "3    [-0.024015650153160095, 0.016489243134856224, ...\n",
              "Name: sentence_vec, dtype: object"
            ],
            "text/html": [
              "<div>\n",
              "<style scoped>\n",
              "    .dataframe tbody tr th:only-of-type {\n",
              "        vertical-align: middle;\n",
              "    }\n",
              "\n",
              "    .dataframe tbody tr th {\n",
              "        vertical-align: top;\n",
              "    }\n",
              "\n",
              "    .dataframe thead th {\n",
              "        text-align: right;\n",
              "    }\n",
              "</style>\n",
              "<table border=\"1\" class=\"dataframe\">\n",
              "  <thead>\n",
              "    <tr style=\"text-align: right;\">\n",
              "      <th></th>\n",
              "      <th>sentence_vec</th>\n",
              "    </tr>\n",
              "  </thead>\n",
              "  <tbody>\n",
              "    <tr>\n",
              "      <th>0</th>\n",
              "      <td>[-0.031178174540400505, 0.011328460648655891, ...</td>\n",
              "    </tr>\n",
              "    <tr>\n",
              "      <th>1</th>\n",
              "      <td>[-0.02348867431282997, 0.0749022513628006, -0....</td>\n",
              "    </tr>\n",
              "    <tr>\n",
              "      <th>2</th>\n",
              "      <td>[-0.007894045673310757, 0.030286453664302826, ...</td>\n",
              "    </tr>\n",
              "    <tr>\n",
              "      <th>3</th>\n",
              "      <td>[-0.024015650153160095, 0.016489243134856224, ...</td>\n",
              "    </tr>\n",
              "  </tbody>\n",
              "</table>\n",
              "</div><br><label><b>dtype:</b> object</label>"
            ]
          },
          "metadata": {},
          "execution_count": 40
        }
      ]
    },
    {
      "cell_type": "code",
      "source": [],
      "metadata": {
        "id": "ozYnw175l0z2"
      },
      "execution_count": null,
      "outputs": []
    },
    {
      "cell_type": "markdown",
      "source": [
        "Compare similarities"
      ],
      "metadata": {
        "id": "UWjNicNtl1Om"
      }
    },
    {
      "cell_type": "code",
      "source": [
        "def show_similarities(vectors, label):\n",
        "    sims = cosine_similarity(vectors)\n",
        "    print(f\"\\n🔹 {label} similarity matrix:\")\n",
        "    print(np.round(sims, 2))\n"
      ],
      "metadata": {
        "id": "EAJp8vtelrtu"
      },
      "execution_count": null,
      "outputs": []
    },
    {
      "cell_type": "code",
      "source": [
        "\n",
        "# Character-level similarity\n",
        "show_similarities(np.vstack(df[\"char_vec\"]), \"Character-level\")\n",
        "\n",
        "# Word-level similarity\n",
        "show_similarities(np.vstack(df[\"word_vec\"]), \"Word-level\")\n",
        "\n",
        "# Sentence-level similarity\n",
        "show_similarities(np.vstack(df[\"sentence_vec\"]), \"Sentence-level\")"
      ],
      "metadata": {
        "colab": {
          "base_uri": "https://localhost:8080/"
        },
        "id": "6UcBCYOel3VS",
        "outputId": "69ddeaaf-539d-42bb-c630-b70ca19e1003"
      },
      "execution_count": null,
      "outputs": [
        {
          "output_type": "stream",
          "name": "stdout",
          "text": [
            "\n",
            "🔹 Character-level similarity matrix:\n",
            "[[1.   0.82 0.82 0.72]\n",
            " [0.82 1.   0.78 0.71]\n",
            " [0.82 0.78 1.   0.73]\n",
            " [0.72 0.71 0.73 1.  ]]\n",
            "\n",
            "🔹 Word-level similarity matrix:\n",
            "[[1.   0.15 0.31 0.  ]\n",
            " [0.15 1.   0.14 0.15]\n",
            " [0.31 0.14 1.   0.  ]\n",
            " [0.   0.15 0.   1.  ]]\n",
            "\n",
            "🔹 Sentence-level similarity matrix:\n",
            "[[1.   0.32 0.3  0.41]\n",
            " [0.32 1.   0.38 0.36]\n",
            " [0.3  0.38 1.   0.22]\n",
            " [0.41 0.36 0.22 1.  ]]\n"
          ]
        }
      ]
    },
    {
      "cell_type": "markdown",
      "source": [
        "Byte Pair Encoding (BPE)"
      ],
      "metadata": {
        "id": "Pm5XSp4hmGyo"
      }
    },
    {
      "cell_type": "code",
      "source": [
        "from tokenizers import Tokenizer, models, trainers, pre_tokenizers\n",
        "\n",
        "texts = [\"The movie was fantastic!\", \"I hated the slow pacing.\"]\n",
        "\n",
        "# Train BPE tokenizer\n",
        "tokenizer = Tokenizer(models.BPE())\n",
        "trainer = trainers.BpeTrainer(vocab_size=50, special_tokens=[\"[UNK]\", \"[PAD]\"])\n",
        "tokenizer.pre_tokenizer = pre_tokenizers.Whitespace()\n",
        "tokenizer.train_from_iterator(texts, trainer)\n",
        "\n",
        "for t in texts:\n",
        "    print(f\"{t} {tokenizer.encode(t).tokens}\")\n"
      ],
      "metadata": {
        "colab": {
          "base_uri": "https://localhost:8080/"
        },
        "id": "VmP-W5zYmFkP",
        "outputId": "605f58db-03fd-4fc2-8fbd-caa167ddb4c4"
      },
      "execution_count": null,
      "outputs": [
        {
          "output_type": "stream",
          "name": "stdout",
          "text": [
            "The movie was fantastic! ['The', 'movie', 'was', 'fantas', 'tic', '!']\n",
            "I hated the slow pacing. ['I', 'hated', 'the', 'slow', 'pacing', '.']\n"
          ]
        }
      ]
    },
    {
      "cell_type": "markdown",
      "source": [
        "Word2Vec (classic)"
      ],
      "metadata": {
        "id": "zEFSVyNSmVG_"
      }
    },
    {
      "cell_type": "code",
      "source": [
        "\n",
        "import numpy as np\n",
        "import re\n",
        "from collections import Counter\n",
        "from openai import OpenAI\n",
        "\n",
        "\n",
        "# Tiny dataset\n",
        "texts = [\n",
        "    \"The movie was fantastic and inspiring.\",\n",
        "    \"I hated the slow pacing of the film.\",\n",
        "    \"The plot was predictable but the acting was good.\"\n",
        "]\n",
        "\n",
        "# ----------------------------------------\n",
        "# 1️⃣ Byte Pair Encoding (toy version)\n",
        "# ----------------------------------------\n",
        "def byte_pair_tokenize(text, merges=5):\n",
        "    tokens = list(text.lower().replace(\" \", \"_\"))\n",
        "    vocab = Counter(tokens)\n",
        "    for _ in range(merges):\n",
        "        pairs = Counter(zip(tokens, tokens[1:]))\n",
        "        if not pairs: break\n",
        "        most_common = max(pairs, key=pairs.get)\n",
        "        new_token = \"\".join(most_common)\n",
        "        i = 0\n",
        "        while i < len(tokens)-1:\n",
        "            if (tokens[i], tokens[i+1]) == most_common:\n",
        "                tokens[i:i+2] = [new_token]\n",
        "            i += 1\n",
        "    return tokens\n",
        "\n",
        "print(\"\\n🔹 BPE Example:\")\n",
        "for t in texts:\n",
        "    print(t, \"→\", byte_pair_tokenize(t))\n",
        "\n",
        "# ----------------------------------------\n",
        "# 2️⃣ Word2Vec / GloVe (toy: co-occurrence)\n",
        "# ----------------------------------------\n",
        "def co_occurrence_matrix(corpus, window=2):\n",
        "    vocab = set(word for text in corpus for word in text.split())\n",
        "    vocab = list(vocab)\n",
        "    mat = {w: Counter() for w in vocab}\n",
        "    for text in corpus:\n",
        "        words = text.split()\n",
        "        for i, word in enumerate(words):\n",
        "            context = words[max(i-window,0):i] + words[i+1:i+window+1]\n",
        "            mat[word].update(context)\n",
        "    return mat\n",
        "\n",
        "co_matrix = co_occurrence_matrix(texts)\n",
        "print(\"\\n🔹 Word2Vec/GloVe style co-occurrence:\")\n",
        "for w, ctx in list(co_matrix.items())[:3]:\n",
        "    print(w, \"→\", dict(ctx))\n",
        "\n",
        "# ----------------------------------------\n",
        "# 3️⃣ FastText (toy: subword units)\n",
        "# ----------------------------------------\n",
        "def fasttext_embedding(word, n=3):\n",
        "    ngrams = [word[i:i+n] for i in range(len(word)-n+1)]\n",
        "    return ngrams\n",
        "\n",
        "print(\"\\n🔹 FastText subwords for 'fantastic':\", fasttext_embedding(\"fantastic\"))\n",
        "\n",
        "# ----------------------------------------\n",
        "# 4️⃣ Sentence Embeddings (OpenAI)\n",
        "# ----------------------------------------\n",
        "embeddings = []\n",
        "for t in texts:\n",
        "    emb = client.embeddings.create(\n",
        "        model=\"text-embedding-3-small\",\n",
        "        input=t\n",
        "    ).data[0].embedding\n",
        "    embeddings.append(emb)\n",
        "\n",
        "print(\"\\n🔹 Sentence Embedding shape:\", len(embeddings[0]))\n",
        "\n",
        "# ----------------------------------------\n",
        "# 5️⃣ Graph Embeddings (DeepWalk style, toy)\n",
        "# ----------------------------------------\n",
        "graph = {\n",
        "    \"A\": [\"B\",\"C\"],\n",
        "    \"B\": [\"A\",\"C\"],\n",
        "    \"C\": [\"A\",\"B\",\"D\"],\n",
        "    \"D\": [\"C\"]\n",
        "}\n",
        "\n",
        "def random_walk(graph, start, length=4):\n",
        "    walk = [start]\n",
        "    for _ in range(length-1):\n",
        "        cur = walk[-1]\n",
        "        nxt = np.random.choice(graph[cur])\n",
        "        walk.append(nxt)\n",
        "    return walk\n",
        "\n",
        "print(\"\\n🔹 DeepWalk toy walk from A:\", random_walk(graph, \"A\"))\n"
      ],
      "metadata": {
        "colab": {
          "base_uri": "https://localhost:8080/"
        },
        "id": "9XyzbsYal7Qt",
        "outputId": "40be3c26-01d8-4cf1-8b50-673ceb26c189"
      },
      "execution_count": null,
      "outputs": [
        {
          "output_type": "stream",
          "name": "stdout",
          "text": [
            "\n",
            "🔹 BPE Example:\n",
            "The movie was fantastic and inspiring. → ['th', 'e_', 'm', 'o', 'v', 'i', 'e_', 'w', 'as', '_', 'f', 'an', 't', 'as', 't', 'i', 'c', '_', 'an', 'd', '_', 'in', 's', 'p', 'i', 'r', 'in', 'g', '.']\n",
            "I hated the slow pacing of the film. → ['i_', 'h', 'a', 't', 'e', 'd', '_the_', 's', 'l', 'o', 'w', '_', 'p', 'a', 'c', 'i', 'n', 'g', '_', 'o', 'f', '_the_', 'f', 'i', 'l', 'm', '.']\n",
            "The plot was predictable but the acting was good. → ['the_', 'p', 'l', 'o', 't_', 'wa', 's', '_', 'p', 'r', 'e', 'd', 'i', 'c', 't', 'a', 'b', 'l', 'e_', 'b', 'u', 't_', 'the_', 'a', 'c', 't', 'i', 'n', 'g', '_', 'wa', 's', '_', 'g', 'o', 'o', 'd', '.']\n",
            "\n",
            "🔹 Word2Vec/GloVe style co-occurrence:\n",
            "pacing → {'the': 2, 'slow': 1, 'of': 1}\n",
            "slow → {'hated': 1, 'the': 1, 'pacing': 1, 'of': 1}\n",
            "good. → {'acting': 1, 'was': 1}\n",
            "\n",
            "🔹 FastText subwords for 'fantastic': ['fan', 'ant', 'nta', 'tas', 'ast', 'sti', 'tic']\n",
            "\n",
            "🔹 Sentence Embedding shape: 1536\n",
            "\n",
            "🔹 DeepWalk toy walk from A: ['A', np.str_('C'), np.str_('B'), np.str_('C')]\n"
          ]
        }
      ]
    },
    {
      "cell_type": "code",
      "source": [],
      "metadata": {
        "id": "548Hx3yZmWUJ"
      },
      "execution_count": null,
      "outputs": []
    }
  ]
}