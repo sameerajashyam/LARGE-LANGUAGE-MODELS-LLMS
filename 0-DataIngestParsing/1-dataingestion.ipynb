{
 "cells": [
  {
   "cell_type": "code",
   "execution_count": 1,
   "id": "aa38718a",
   "metadata": {},
   "outputs": [],
   "source": [
    "import os\n",
    "from typing import List,Dict,Any\n",
    "import pandas as pd"
   ]
  },
  {
   "cell_type": "code",
   "execution_count": 2,
   "id": "fc8d1b9b",
   "metadata": {},
   "outputs": [
    {
     "name": "stdout",
     "output_type": "stream",
     "text": [
      "Setup Completed\n"
     ]
    }
   ],
   "source": [
    "from langchain_core.documents import Document  \n",
    "\n",
    "from langchain_text_splitters import (       \n",
    "    RecursiveCharacterTextSplitter,\n",
    "    CharacterTextSplitter,\n",
    "    TokenTextSplitter\n",
    ")\n",
    "\n",
    "print(\"Setup Completed\")\n"
   ]
  },
  {
   "cell_type": "markdown",
   "id": "85c54d39",
   "metadata": {},
   "source": []
  },
  {
   "cell_type": "code",
   "execution_count": 3,
   "id": "39c8f9fc",
   "metadata": {},
   "outputs": [
    {
     "name": "stdout",
     "output_type": "stream",
     "text": [
      "Document  Strucutre\n",
      "Content :This is the main text content that will be embedded and searched\n",
      "Metadata :{'source': 'example.txt', 'page': 1, 'author': 'Sameer', 'date_created': '2024-01-01', 'cutom_field': 'any_value'}\n"
     ]
    }
   ],
   "source": [
    "#creating a simple document\n",
    "doc=Document(\n",
    "    page_content=\"This is the main text content that will be embedded and searched\",\n",
    "    metadata={\n",
    "        \"source\":\"example.txt\",\n",
    "        \"page\":1,\n",
    "        \"author\":\"Sameer\",\n",
    "        \"date_created\":\"2024-01-01\",\n",
    "        'cutom_field':\"any_value\"\n",
    "    }\n",
    ")\n",
    "print(\"Document  Strucutre\")\n",
    "\n",
    "print(f\"Content :{doc.page_content}\")\n",
    "print(f\"Metadata :{doc.metadata}\")\n"
   ]
  },
  {
   "cell_type": "code",
   "execution_count": 4,
   "id": "0a698ff3",
   "metadata": {},
   "outputs": [],
   "source": [
    "#create a simple text file\n",
    "import os\n",
    "os.makedirs(\"data/text_files\",exist_ok=True)"
   ]
  },
  {
   "cell_type": "code",
   "execution_count": 5,
   "id": "a9ddcf4c",
   "metadata": {},
   "outputs": [
    {
     "name": "stdout",
     "output_type": "stream",
     "text": [
      "sample text files created\n"
     ]
    }
   ],
   "source": [
    "sample_texts={\n",
    "    \"data/text_files/python_intro.txt\":\"\"\"\n",
    "    Sure! Here's a **paragraph-style introduction to Python**, written clearly and simply:\n",
    "\n",
    "Python is a high-level, interpreted programming language known for its simplicity and readability. It was created by Guido van Rossum and first released in 1991. One of Python’s biggest strengths is its clean and easy-to-understand syntax, which makes it an ideal choice for beginners as well as professionals. Unlike some other programming languages that require a lot of boilerplate code, Python lets you express ideas in just a few lines. For example, printing a message to the screen or writing a loop takes only one or two lines of code.\n",
    "\n",
    "Python is also extremely versatile. It is widely used in many different fields, including web development, data science, machine learning, automation, game development, and even cybersecurity. Developers rely on powerful frameworks and libraries built for Python—such as Django for web applications, Pandas for data analysis, or TensorFlow for machine learning. These tools allow you to build complex systems quickly and efficiently.\n",
    "\n",
    "Another key advantage of Python is its large and active community. This means there are plenty of tutorials, forums, and free resources available online. Whether you're debugging an error or learning a new skill, chances are someone has already solved the same problem and shared their solution.\n",
    "\n",
    "Getting started with Python is easy. You can install it from the official website and write code using a simple text editor or an IDE like Visual Studio Code or PyCharm. Many people also use Jupyter Notebooks, especially in data science, because they allow mixing code with explanations and charts. With its wide range of applications and beginner-friendly nature, Python is a great first language and a powerful tool for professionals alike.\n",
    "\n",
    "---\n",
    "\n",
    "Let me know if you want this in a `.txt` file or want the same style for topics like MySQL, PostgreSQL, or Oracle SQL.\n",
    "\"\"\"\n",
    "}\n",
    "for filepath,content in sample_texts.items():\n",
    "    with open(filepath,'w',encoding=\"utf-8\") as f:\n",
    "        f.write(content)\n",
    "\n",
    "print(\"sample text files created\")"
   ]
  },
  {
   "cell_type": "code",
   "execution_count": 6,
   "id": "40c3e736",
   "metadata": {},
   "outputs": [
    {
     "name": "stdout",
     "output_type": "stream",
     "text": [
      "loaded 1document\n",
      "content preview:\n",
      "    Sure! Here's a **paragraph-style introduction to Python**, written clearly and simply:\n",
      "\n",
      "Python ...\n",
      "Metadata:{'source': 'data/text_files/python_intro.txt'}\n"
     ]
    }
   ],
   "source": [
    "from langchain.document_loaders import TextLoader\n",
    "from langchain_community.document_loaders import TextLoader\n",
    "\n",
    "#loading a single document textfile\n",
    "loader=TextLoader('data/text_files/python_intro.txt',encoding='utf-8')\n",
    "\n",
    "documents=loader.load()\n",
    "print(f\"loaded {len(documents)}document\")\n",
    "print(f\"content preview:{documents[0].page_content[:100]}...\")\n",
    "print(f\"Metadata:{documents[0].metadata}\")"
   ]
  },
  {
   "cell_type": "markdown",
   "id": "695c2739",
   "metadata": {},
   "source": [
    "DirectoryLoader-Multiple Text Files"
   ]
  },
  {
   "cell_type": "code",
   "execution_count": 7,
   "id": "34147d6c",
   "metadata": {},
   "outputs": [
    {
     "name": "stdout",
     "output_type": "stream",
     "text": [
      "\n",
      "Document1:\n",
      "Source :data/text_files/python_intro.txt\n",
      "Length:1937 characters\n"
     ]
    }
   ],
   "source": [
    "from langchain_community.document_loaders import DirectoryLoader\n",
    "\n",
    "# loading  all the files from the directory\n",
    "dir_loader=DirectoryLoader(\n",
    "    \"data/text_files\",\n",
    "    glob=\"**/*.txt\",#regular expression to find match files\n",
    "    loader_kwargs={\"encoding\":\"utf-8\"},\n",
    "    show_progress=True\n",
    ")\n",
    "\n",
    "for i,doc in enumerate(documents):\n",
    "    print(f\"\\nDocument{i+1}:\")\n",
    "    print(f\"Source :{doc.metadata[\"source\"]}\")\n",
    "    print(f\"Length:{len(doc.page_content)} characters\")\n",
    "\n",
    "\n"
   ]
  },
  {
   "cell_type": "code",
   "execution_count": 8,
   "id": "3de1a692",
   "metadata": {},
   "outputs": [],
   "source": [
    "#Text Splitting Statergies"
   ]
  },
  {
   "cell_type": "code",
   "execution_count": 9,
   "id": "f5047e04",
   "metadata": {},
   "outputs": [
    {
     "name": "stdout",
     "output_type": "stream",
     "text": [
      "[Document(metadata={'source': 'data/text_files/python_intro.txt'}, page_content=\"\\n    Sure! Here's a **paragraph-style introduction to Python**, written clearly and simply:\\n\\nPython is a high-level, interpreted programming language known for its simplicity and readability. It was created by Guido van Rossum and first released in 1991. One of Python’s biggest strengths is its clean and easy-to-understand syntax, which makes it an ideal choice for beginners as well as professionals. Unlike some other programming languages that require a lot of boilerplate code, Python lets you express ideas in just a few lines. For example, printing a message to the screen or writing a loop takes only one or two lines of code.\\n\\nPython is also extremely versatile. It is widely used in many different fields, including web development, data science, machine learning, automation, game development, and even cybersecurity. Developers rely on powerful frameworks and libraries built for Python—such as Django for web applications, Pandas for data analysis, or TensorFlow for machine learning. These tools allow you to build complex systems quickly and efficiently.\\n\\nAnother key advantage of Python is its large and active community. This means there are plenty of tutorials, forums, and free resources available online. Whether you're debugging an error or learning a new skill, chances are someone has already solved the same problem and shared their solution.\\n\\nGetting started with Python is easy. You can install it from the official website and write code using a simple text editor or an IDE like Visual Studio Code or PyCharm. Many people also use Jupyter Notebooks, especially in data science, because they allow mixing code with explanations and charts. With its wide range of applications and beginner-friendly nature, Python is a great first language and a powerful tool for professionals alike.\\n\\n---\\n\\nLet me know if you want this in a `.txt` file or want the same style for topics like MySQL, PostgreSQL, or Oracle SQL.\\n\")]\n"
     ]
    }
   ],
   "source": [
    "from langchain.text_splitter import(CharacterTextSplitter,RecursiveCharacterTextSplitter,TokenTextSplitter)\n",
    "print(documents)"
   ]
  },
  {
   "cell_type": "code",
   "execution_count": 12,
   "id": "54cf35db",
   "metadata": {},
   "outputs": [
    {
     "data": {
      "text/plain": [
       "\"\\n    Sure! Here's a **paragraph-style introduction to Python**, written clearly and simply:\\n\\nPython is a high-level, interpreted programming language known for its simplicity and readability. It was created by Guido van Rossum and first released in 1991. One of Python’s biggest strengths is its clean and easy-to-understand syntax, which makes it an ideal choice for beginners as well as professionals. Unlike some other programming languages that require a lot of boilerplate code, Python lets you express ideas in just a few lines. For example, printing a message to the screen or writing a loop takes only one or two lines of code.\\n\\nPython is also extremely versatile. It is widely used in many different fields, including web development, data science, machine learning, automation, game development, and even cybersecurity. Developers rely on powerful frameworks and libraries built for Python—such as Django for web applications, Pandas for data analysis, or TensorFlow for machine learning. These tools allow you to build complex systems quickly and efficiently.\\n\\nAnother key advantage of Python is its large and active community. This means there are plenty of tutorials, forums, and free resources available online. Whether you're debugging an error or learning a new skill, chances are someone has already solved the same problem and shared their solution.\\n\\nGetting started with Python is easy. You can install it from the official website and write code using a simple text editor or an IDE like Visual Studio Code or PyCharm. Many people also use Jupyter Notebooks, especially in data science, because they allow mixing code with explanations and charts. With its wide range of applications and beginner-friendly nature, Python is a great first language and a powerful tool for professionals alike.\\n\\n---\\n\\nLet me know if you want this in a `.txt` file or want the same style for topics like MySQL, PostgreSQL, or Oracle SQL.\\n\""
      ]
     },
     "execution_count": 12,
     "metadata": {},
     "output_type": "execute_result"
    }
   ],
   "source": [
    "#method -1 -character Text SPlitter\n",
    "\n",
    "text=documents[0].page_content\n",
    "text"
   ]
  },
  {
   "cell_type": "code",
   "execution_count": null,
   "id": "c294ed78",
   "metadata": {},
   "outputs": [],
   "source": [
    "print(\"character Text Splitter\")\n",
    "char_splitter=CharacterTextSplitter(\n",
    "    separator=\"\\n\",\n",
    "    chunk_size=200,\n",
    "    chunk_overlap=20,\n",
    "    length_function=len\n",
    ")\n",
    "char_chunk=char_splitter.split_text(text)"
   ]
  },
  {
   "cell_type": "code",
   "execution_count": null,
   "id": "536d9a17",
   "metadata": {},
   "outputs": [],
   "source": []
  },
  {
   "cell_type": "code",
   "execution_count": null,
   "id": "84ff610e",
   "metadata": {},
   "outputs": [],
   "source": []
  },
  {
   "cell_type": "code",
   "execution_count": null,
   "id": "7f16186c",
   "metadata": {},
   "outputs": [],
   "source": []
  },
  {
   "cell_type": "code",
   "execution_count": null,
   "id": "9dfeb740",
   "metadata": {},
   "outputs": [],
   "source": []
  }
 ],
 "metadata": {
  "kernelspec": {
   "display_name": "Python 3",
   "language": "python",
   "name": "python3"
  },
  "language_info": {
   "codemirror_mode": {
    "name": "ipython",
    "version": 3
   },
   "file_extension": ".py",
   "mimetype": "text/x-python",
   "name": "python",
   "nbconvert_exporter": "python",
   "pygments_lexer": "ipython3",
   "version": "3.12.4"
  }
 },
 "nbformat": 4,
 "nbformat_minor": 5
}
